{
  "nbformat": 4,
  "nbformat_minor": 0,
  "metadata": {
    "colab": {
      "provenance": [],
      "gpuType": "T4",
      "authorship_tag": "ABX9TyMpf5z/x+zjKr7kPXutnAtM",
      "include_colab_link": true
    },
    "kernelspec": {
      "name": "python3",
      "display_name": "Python 3"
    },
    "language_info": {
      "name": "python"
    },
    "accelerator": "GPU"
  },
  "cells": [
    {
      "cell_type": "markdown",
      "metadata": {
        "id": "view-in-github",
        "colab_type": "text"
      },
      "source": [
        "<a href=\"https://colab.research.google.com/github/MuleHakim/Pytorch-Tutorial/blob/main/Tensors.ipynb\" target=\"_parent\"><img src=\"https://colab.research.google.com/assets/colab-badge.svg\" alt=\"Open In Colab\"/></a>"
      ]
    },
    {
      "cell_type": "code",
      "execution_count": 1,
      "metadata": {
        "id": "BOhb-JretfyS"
      },
      "outputs": [],
      "source": [
        "import torch\n",
        "import numpy as np"
      ]
    },
    {
      "cell_type": "markdown",
      "source": [
        "LISTS"
      ],
      "metadata": {
        "id": "hR8auMMturkI"
      }
    },
    {
      "cell_type": "code",
      "source": [
        "my_list = [[1,2,3,4,5],[3,4,5,6,8]]\n",
        "my_list"
      ],
      "metadata": {
        "colab": {
          "base_uri": "https://localhost:8080/"
        },
        "id": "OTlgoUm0uuo8",
        "outputId": "1e69a810-0abe-449e-bf71-f5b78e3ee2ee"
      },
      "execution_count": 7,
      "outputs": [
        {
          "output_type": "execute_result",
          "data": {
            "text/plain": [
              "[[1, 2, 3, 4, 5], [3, 4, 5, 6, 8]]"
            ]
          },
          "metadata": {},
          "execution_count": 7
        }
      ]
    },
    {
      "cell_type": "markdown",
      "source": [
        "NUMPY ARRAY"
      ],
      "metadata": {
        "id": "t1-V7CFTvJdB"
      }
    },
    {
      "cell_type": "code",
      "source": [
        "np1 = np.random.rand(3,4)\n",
        "np1"
      ],
      "metadata": {
        "colab": {
          "base_uri": "https://localhost:8080/"
        },
        "id": "mepOwI2dvOpx",
        "outputId": "86057558-9142-4eff-e315-3828b3297963"
      },
      "execution_count": 11,
      "outputs": [
        {
          "output_type": "execute_result",
          "data": {
            "text/plain": [
              "array([[0.56464978, 0.69064476, 0.21895808, 0.06472473],\n",
              "       [0.44519456, 0.41043587, 0.11994486, 0.9066289 ],\n",
              "       [0.68778965, 0.35830235, 0.55372324, 0.57324125]])"
            ]
          },
          "metadata": {},
          "execution_count": 11
        }
      ]
    },
    {
      "cell_type": "code",
      "source": [
        "np2 = np.random.rand(4)\n",
        "np2"
      ],
      "metadata": {
        "colab": {
          "base_uri": "https://localhost:8080/"
        },
        "id": "VtLPDWZ0vsUc",
        "outputId": "9800867c-55f0-49d7-ab0f-dd85defd84a7"
      },
      "execution_count": 12,
      "outputs": [
        {
          "output_type": "execute_result",
          "data": {
            "text/plain": [
              "array([0.2431525 , 0.97519127, 0.30709833, 0.47797294])"
            ]
          },
          "metadata": {},
          "execution_count": 12
        }
      ]
    },
    {
      "cell_type": "code",
      "source": [
        "np1.dtype"
      ],
      "metadata": {
        "colab": {
          "base_uri": "https://localhost:8080/"
        },
        "id": "7RbJ3zf7vZaJ",
        "outputId": "469f75d6-0fba-4e6f-ce85-fdef3843c614"
      },
      "execution_count": 25,
      "outputs": [
        {
          "output_type": "execute_result",
          "data": {
            "text/plain": [
              "dtype('float64')"
            ]
          },
          "metadata": {},
          "execution_count": 25
        }
      ]
    },
    {
      "cell_type": "code",
      "source": [
        "tensor_2d = torch.randn(7,7)\n",
        "tensor_2d1 = torch.randn(1,7)"
      ],
      "metadata": {
        "id": "wbvOCAcn59fE"
      },
      "execution_count": 29,
      "outputs": []
    },
    {
      "cell_type": "code",
      "source": [
        "tensor_2d"
      ],
      "metadata": {
        "colab": {
          "base_uri": "https://localhost:8080/"
        },
        "id": "pmbNkSAl6AuO",
        "outputId": "12b143e8-85cd-4bf1-f6b8-a1a3b8481184"
      },
      "execution_count": 30,
      "outputs": [
        {
          "output_type": "execute_result",
          "data": {
            "text/plain": [
              "tensor([[-0.6570, -0.2256, -0.8031, -0.8152, -1.7373,  0.1281,  1.0432],\n",
              "        [-0.1987, -0.6668, -0.3603, -0.8097, -1.4090,  0.9877,  0.3808],\n",
              "        [-1.6754, -0.0120, -1.6228, -0.0525,  0.4464,  1.5900, -2.2530],\n",
              "        [ 1.0163, -0.0845,  1.1547,  0.1850,  1.2729,  1.3681, -1.3511],\n",
              "        [ 0.0199, -1.6976, -1.1172,  0.8416,  0.4155, -0.2110,  1.1533],\n",
              "        [ 0.8300, -1.8189,  0.4788, -0.3244,  0.2202, -1.4176, -0.4810],\n",
              "        [ 0.7020,  1.1694, -1.1352,  0.9739, -1.5771, -0.6015,  0.7938]])"
            ]
          },
          "metadata": {},
          "execution_count": 30
        }
      ]
    },
    {
      "cell_type": "markdown",
      "source": [
        "TENSORS"
      ],
      "metadata": {
        "id": "dkd2CrMfv0bz"
      }
    },
    {
      "cell_type": "code",
      "source": [
        "tensor_2d1"
      ],
      "metadata": {
        "colab": {
          "base_uri": "https://localhost:8080/"
        },
        "id": "WW9eHdJi6FNC",
        "outputId": "42b7a04b-7450-4545-e172-b6361a8cf807"
      },
      "execution_count": 28,
      "outputs": [
        {
          "output_type": "execute_result",
          "data": {
            "text/plain": [
              "tensor([[-0.2497,  0.6779, -1.8550, -0.0398, -0.5664, -1.7786,  0.3427]])"
            ]
          },
          "metadata": {},
          "execution_count": 28
        }
      ]
    },
    {
      "cell_type": "code",
      "source": [
        "tensor_2d * tensor_2d1"
      ],
      "metadata": {
        "colab": {
          "base_uri": "https://localhost:8080/"
        },
        "id": "1aBSt4kV6HDo",
        "outputId": "51bab39f-64a6-4eb0-c47b-8b9990c6074d"
      },
      "execution_count": 31,
      "outputs": [
        {
          "output_type": "execute_result",
          "data": {
            "text/plain": [
              "tensor([[ 0.6329, -0.0981, -0.9284,  0.4990,  1.0251, -0.0269, -1.8534],\n",
              "        [ 0.1914, -0.2899, -0.4165,  0.4957,  0.8314, -0.2072, -0.6766],\n",
              "        [ 1.6138, -0.0052, -1.8759,  0.0321, -0.2634, -0.3336,  4.0027],\n",
              "        [-0.9790, -0.0367,  1.3349, -0.1132, -0.7511, -0.2870,  2.4003],\n",
              "        [-0.0191, -0.7380, -1.2915, -0.5152, -0.2452,  0.0443, -2.0489],\n",
              "        [-0.7995, -0.7907,  0.5535,  0.1986, -0.1299,  0.2974,  0.8546],\n",
              "        [-0.6762,  0.5083, -1.3123, -0.5962,  0.9306,  0.1262, -1.4103]])"
            ]
          },
          "metadata": {},
          "execution_count": 31
        }
      ]
    },
    {
      "cell_type": "code",
      "source": [
        "tensor_3d = torch.zeros(2,3,4)\n",
        "tensor_3d"
      ],
      "metadata": {
        "colab": {
          "base_uri": "https://localhost:8080/"
        },
        "id": "-c7PoecFwWCw",
        "outputId": "501a6b4a-cca9-4fc7-ee5b-4fe3602fcb28"
      },
      "execution_count": 21,
      "outputs": [
        {
          "output_type": "execute_result",
          "data": {
            "text/plain": [
              "tensor([[[0., 0., 0., 0.],\n",
              "         [0., 0., 0., 0.],\n",
              "         [0., 0., 0., 0.]],\n",
              "\n",
              "        [[0., 0., 0., 0.],\n",
              "         [0., 0., 0., 0.],\n",
              "         [0., 0., 0., 0.]]])"
            ]
          },
          "metadata": {},
          "execution_count": 21
        }
      ]
    },
    {
      "cell_type": "code",
      "source": [
        "## Create tensor out of numpy array\n",
        "my_tensor = torch.tensor(np1)\n",
        "my_tensor"
      ],
      "metadata": {
        "colab": {
          "base_uri": "https://localhost:8080/"
        },
        "id": "TdHdAwzswef0",
        "outputId": "76e5cb17-ac9f-43d2-e62e-996299868deb"
      },
      "execution_count": 22,
      "outputs": [
        {
          "output_type": "execute_result",
          "data": {
            "text/plain": [
              "tensor([[0.5646, 0.6906, 0.2190, 0.0647],\n",
              "        [0.4452, 0.4104, 0.1199, 0.9066],\n",
              "        [0.6878, 0.3583, 0.5537, 0.5732]], dtype=torch.float64)"
            ]
          },
          "metadata": {},
          "execution_count": 22
        }
      ]
    },
    {
      "cell_type": "code",
      "source": [],
      "metadata": {
        "id": "KaifHumixkkI"
      },
      "execution_count": null,
      "outputs": []
    }
  ]
}